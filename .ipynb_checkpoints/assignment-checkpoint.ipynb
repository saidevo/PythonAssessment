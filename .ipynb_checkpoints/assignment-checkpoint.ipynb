{
 "cells": [
  {
   "cell_type": "code",
   "execution_count": 1,
   "id": "8ed54f4f-5c10-4fa7-a0df-1d7b44f36d36",
   "metadata": {},
   "outputs": [
    {
     "name": "stdout",
     "output_type": "stream",
     "text": [
      "4.0\n"
     ]
    }
   ],
   "source": [
    "people=60\n",
    "bus_seats=15\n",
    "print(60/15)\n"
   ]
  },
  {
   "cell_type": "code",
   "execution_count": 7,
   "id": "33171b7d-f386-42b6-bef2-e854564767c7",
   "metadata": {},
   "outputs": [
    {
     "name": "stdout",
     "output_type": "stream",
     "text": [
      "Temperature in Celsius: 36.39°C\n"
     ]
    }
   ],
   "source": [
    "farenheit=float(97.5)\n",
    "celsius= (farenheit-32)*5/9\n",
    "print(f\"Temperature in Celsius: {celsius:.2f}°C\")"
   ]
  },
  {
   "cell_type": "code",
   "execution_count": 13,
   "id": "c38fdb1a-aad9-4bae-b381-0944a8aafb8a",
   "metadata": {},
   "outputs": [
    {
     "name": "stdout",
     "output_type": "stream",
     "text": [
      "Temperature in Fahrenheit: 131.30°F\n"
     ]
    }
   ],
   "source": [
    "celsius=float(97.5)\n",
    "fahrenheit= (farenheit+9/5)+32\n",
    "print(f\"Temperature in Fahrenheit: {fahrenheit:.2f}°F\")"
   ]
  },
  {
   "cell_type": "code",
   "execution_count": 19,
   "id": "2b54e3ca-e774-43f8-811c-0b5fd4158ae3",
   "metadata": {},
   "outputs": [
    {
     "name": "stdout",
     "output_type": "stream",
     "text": [
      "2025\n",
      "343000\n"
     ]
    }
   ],
   "source": [
    "a=int(20)\n",
    "b=int(25)\n",
    "c=int(30)\n",
    "d=int(40)\n",
    "print(int(20+25)**2)\n",
    "print(int(30+40)**3)\n"
   ]
  },
  {
   "cell_type": "code",
   "execution_count": 61,
   "id": "4c726322-1682-4ef1-b988-839ef2f5de87",
   "metadata": {},
   "outputs": [
    {
     "name": "stdin",
     "output_type": "stream",
     "text": [
      "enter a value 10\n",
      "enter a value 10\n",
      "enter a value 10\n",
      "enter a value 10\n"
     ]
    },
    {
     "name": "stdout",
     "output_type": "stream",
     "text": [
      "Variance: 0.0\n",
      "0.0\n",
      "49\n"
     ]
    }
   ],
   "source": [
    "a= float(input(\"enter a value\"))\n",
    "b= float(input(\"enter a value\"))\n",
    "c=float(input(\"enter a value\"))         \n",
    "d= float(input(\"enter a value\"))\n",
    "number= [a, b, c, d]\n",
    "mean = sum(number)/len(number)\n",
    "v=(a - mean) ** 2 + (b - mean) ** 2 + (c - mean) ** 2+ (d - mean) ** 2\n",
    "\n",
    "variance = v / len(number) \n",
    "\n",
    "print(\"Variance:\", variance)\n",
    "\n",
    "std_deviation = variance ** 0.5\n",
    "print(std_deviation)\n",
    "m=1.23\n",
    "b=0.045\n",
    "x=sum(number)\n",
    "y=m*x+b\n",
    "print((int(y)))"
   ]
  },
  {
   "cell_type": "code",
   "execution_count": 67,
   "id": "2ad705ec-3aa5-4b09-bb96-578d63e2a05e",
   "metadata": {},
   "outputs": [
    {
     "name": "stdout",
     "output_type": "stream",
     "text": [
      "this is km to cm 500000\n",
      "this is km to meters 1.23\n",
      "this is km to mm 5000000\n",
      "this is km to c 500000\n",
      "this is km to feet 16404.2\n",
      "this is km to yards 5468.049999999999\n"
     ]
    }
   ],
   "source": [
    "km = 5\n",
    "cm = km * 100000\n",
    "print(\"this is km to cm\", cm)\n",
    "meters = km * 1000\n",
    "print(\"this is km to meters\", m)\n",
    "mm = km * 1000000\n",
    "print(\"this is km to mm\", mm)\n",
    "cents = km * 100000\n",
    "print(\"this is km to c\", cents)\n",
    "feet = km * 3280.84\n",
    "print(\"this is km to feet\", feet)\n",
    "yards = km * 1093.61\n",
    "print(\"this is km to yards\", yards)\n"
   ]
  },
  {
   "cell_type": "code",
   "execution_count": 83,
   "id": "d166a287-05a1-4914-8d53-958baf29704f",
   "metadata": {},
   "outputs": [
    {
     "name": "stdout",
     "output_type": "stream",
     "text": [
      "MB 10240\n",
      "KB 10485760\n",
      "TB 0.009765625\n",
      "PB 9.5367431640625e-06\n"
     ]
    }
   ],
   "source": [
    "gb=10\n",
    "# 1 gb = 1024 mb\n",
    "MB= gb*1024\n",
    "print(\"MB\", MB)\n",
    "KB=gb* 1024*1024\n",
    "print(\"KB\", KB)\n",
    "TB=gb/1024\n",
    "print(\"TB\", TB)\n",
    "PB=gb/(1024*1024)\n",
    "print(\"PB\", PB)"
   ]
  },
  {
   "cell_type": "code",
   "execution_count": 91,
   "id": "50542cb6-cb43-4155-a3b0-d551a4c0868e",
   "metadata": {},
   "outputs": [
    {
     "name": "stdin",
     "output_type": "stream",
     "text": [
      "enter your name sainath\n",
      "enter your age 27\n",
      "enter your height 5.6\n"
     ]
    },
    {
     "name": "stdout",
     "output_type": "stream",
     "text": [
      "Name:sainath of the person, Age:27 of the person, Height:5.6 of the person\n"
     ]
    }
   ],
   "source": [
    "# The details of the person: Name:name of the person, Age:age of the person, Height:height of the person\n",
    "name=input(\"enter your name\")\n",
    "age=input(\"enter your age\")\n",
    "height=input(\"enter your height\")\n",
    "res = f\"Name:{name} of the person, Age:{age} of the person, Height:{height} of the person\"\n",
    "print(res)"
   ]
  },
  {
   "cell_type": "code",
   "execution_count": 97,
   "id": "65e4f36e-948f-4910-acb0-33b9dbc5cf8e",
   "metadata": {},
   "outputs": [
    {
     "name": "stdout",
     "output_type": "stream",
     "text": [
      "31.249999999999993\n"
     ]
    }
   ],
   "source": [
    "weight=80\n",
    "height=1.6 # give in meters\n",
    "\n",
    "bmi = (weight / (height ** 2))\n",
    "\n",
    "print(bmi)\n"
   ]
  },
  {
   "cell_type": "code",
   "execution_count": 123,
   "id": "af9ebffc-aff9-4dce-a9e8-faa9e9b7115b",
   "metadata": {},
   "outputs": [
    {
     "name": "stdout",
     "output_type": "stream",
     "text": [
      "Name:Jayaram, Age:1, Height:3, Weight:10\n"
     ]
    }
   ],
   "source": [
    "name=\"Jayaram\"\n",
    "age=1.6\n",
    "height=3.5356234\n",
    "weight=10.343856783\n",
    "\n",
    "# Name:Jayaram, Age:1.6, Height:3.54, Weight:10.344\n",
    "\n",
    "res = \"Name:%s, Age:%d, Height:%d, Weight:%d\"%(name, age, height, weight)\n",
    "print(res)\n"
   ]
  },
  {
   "cell_type": "code",
   "execution_count": 129,
   "id": "86293d7b-4dbc-4277-b0e0-353449a6ec1b",
   "metadata": {},
   "outputs": [
    {
     "name": "stdout",
     "output_type": "stream",
     "text": [
      "2³\n"
     ]
    }
   ],
   "source": [
    "base=2\n",
    "exponent=3\n",
    "# Use: 2\\u00b3\n",
    "res=f\"{base}\\u00b3\"\n",
    "print(res)"
   ]
  },
  {
   "cell_type": "code",
   "execution_count": 137,
   "id": "d088497b-351f-41f1-81fe-562dbac1d793",
   "metadata": {},
   "outputs": [
    {
     "name": "stdout",
     "output_type": "stream",
     "text": [
      "abcdefghijklm  fyuu ABCDEFGHIJKLM  FYUU\n"
     ]
    }
   ],
   "source": [
    "# Take three upper case letters from the user convert in to small case.\n",
    "sainath=\"ABCDEFGHIJKLM  fyuu\"\n",
    "convert=sainath.lower()\n",
    "f = sainath.upper()\n",
    "print(convert, f)"
   ]
  },
  {
   "cell_type": "code",
   "execution_count": 157,
   "id": "c13ddd89-ac79-4971-bbbb-270f5672c66a",
   "metadata": {},
   "outputs": [
    {
     "name": "stdout",
     "output_type": "stream",
     "text": [
      "105 21.0\n"
     ]
    }
   ],
   "source": [
    "\n",
    "\n"
   ]
  },
  {
   "cell_type": "code",
   "execution_count": 169,
   "id": "0d094486-d4ac-4a43-a540-2694c79b13c0",
   "metadata": {},
   "outputs": [
    {
     "name": "stdout",
     "output_type": "stream",
     "text": [
      "Total cost :  105\n",
      "Average :  21.0\n",
      "Maximum_value:  35\n",
      "Minimum_value: 10\n"
     ]
    }
   ],
   "source": [
    "# Take some groceries cost prices and print total cost and average cost, what is the max cost, what is the minimum cost.\n",
    "\n",
    "Apple=20\n",
    "Oranges=10\n",
    "Pineapple=15\n",
    "Kindaapple=25\n",
    "middleapple=35\n",
    "\n",
    "a = [Apple, Oranges, Pineapple, Kindaapple, middleapple]\n",
    "\n",
    "total = sum(a)\n",
    "print(\"Total cost : \", total)\n",
    "avg = total / len(a)\n",
    "print(\"Average : \", avg)\n",
    "\n",
    "max_of = max(a)\n",
    "print(\"Maximum_value: \", max_of)\n",
    "\n",
    "min_of = min(a)\n",
    "print(\"Minimum_value:\", min_of)\n"
   ]
  },
  {
   "cell_type": "code",
   "execution_count": null,
   "id": "e458ebe1-3f24-4c05-b9c4-80e1dc10c344",
   "metadata": {},
   "outputs": [],
   "source": []
  }
 ],
 "metadata": {
  "kernelspec": {
   "display_name": "Python 3 (ipykernel)",
   "language": "python",
   "name": "python3"
  },
  "language_info": {
   "codemirror_mode": {
    "name": "ipython",
    "version": 3
   },
   "file_extension": ".py",
   "mimetype": "text/x-python",
   "name": "python",
   "nbconvert_exporter": "python",
   "pygments_lexer": "ipython3",
   "version": "3.12.4"
  }
 },
 "nbformat": 4,
 "nbformat_minor": 5
}
