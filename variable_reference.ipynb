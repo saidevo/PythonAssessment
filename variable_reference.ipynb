{
 "cells": [
  {
   "cell_type": "code",
   "execution_count": null,
   "id": "55ff4eb3-a21f-4013-b77b-2b22fab99900",
   "metadata": {},
   "outputs": [],
   "source": [
    "# @name = 20\n",
    "# print(@name)"
   ]
  },
  {
   "cell_type": "code",
   "execution_count": null,
   "id": "a9aeb1be-a908-4bc7-99aa-01aea863736c",
   "metadata": {},
   "outputs": [],
   "source": [
    "# %name = 20\n",
    "# print(%name)"
   ]
  },
  {
   "cell_type": "code",
   "execution_count": 1,
   "id": "824af616-535f-429e-bdf8-3de9a7334937",
   "metadata": {},
   "outputs": [
    {
     "name": "stdout",
     "output_type": "stream",
     "text": [
      "20\n"
     ]
    }
   ],
   "source": [
    "_name = 20\n",
    "print(_name)"
   ]
  },
  {
   "cell_type": "code",
   "execution_count": 3,
   "id": "737ad89c-0ce9-487e-9a80-51df677b38f8",
   "metadata": {},
   "outputs": [],
   "source": [
    "# True = \"fgh\"\n",
    "# print(True)"
   ]
  },
  {
   "cell_type": "code",
   "execution_count": 5,
   "id": "6e2a9003-5fc4-4a59-ade0-32465207e303",
   "metadata": {},
   "outputs": [
    {
     "name": "stdout",
     "output_type": "stream",
     "text": [
      "dfg\n"
     ]
    }
   ],
   "source": [
    "sum = \"dfg\"\n",
    "print(sum)"
   ]
  },
  {
   "cell_type": "code",
   "execution_count": 7,
   "id": "8f1ca1fc-564d-4e3a-96c1-1cf2f2e95ed6",
   "metadata": {},
   "outputs": [
    {
     "ename": "TypeError",
     "evalue": "'str' object is not callable",
     "output_type": "error",
     "traceback": [
      "\u001b[1;31m---------------------------------------------------------------------------\u001b[0m",
      "\u001b[1;31mTypeError\u001b[0m                                 Traceback (most recent call last)",
      "Cell \u001b[1;32mIn[7], line 3\u001b[0m\n\u001b[0;32m      1\u001b[0m l \u001b[38;5;241m=\u001b[39m [\u001b[38;5;241m1\u001b[39m, \u001b[38;5;241m2\u001b[39m, \u001b[38;5;241m3\u001b[39m]\n\u001b[0;32m      2\u001b[0m \u001b[38;5;66;03m# sum = 0\u001b[39;00m\n\u001b[1;32m----> 3\u001b[0m a \u001b[38;5;241m=\u001b[39m \u001b[38;5;28msum\u001b[39m(l)\n\u001b[0;32m      4\u001b[0m \u001b[38;5;28mprint\u001b[39m(a)\n",
      "\u001b[1;31mTypeError\u001b[0m: 'str' object is not callable"
     ]
    }
   ],
   "source": [
    "l = [1, 2, 3]\n",
    "# sum = 0\n",
    "a = sum(l)\n",
    "print(a)"
   ]
  },
  {
   "cell_type": "code",
   "execution_count": 9,
   "id": "c9cd57ac-8672-4545-a52b-ce7bd24badc3",
   "metadata": {},
   "outputs": [
    {
     "name": "stdout",
     "output_type": "stream",
     "text": [
      "['False', 'None', 'True', 'and', 'as', 'assert', 'async', 'await', 'break', 'class', 'continue', 'def', 'del', 'elif', 'else', 'except', 'finally', 'for', 'from', 'global', 'if', 'import', 'in', 'is', 'lambda', 'nonlocal', 'not', 'or', 'pass', 'raise', 'return', 'try', 'while', 'with', 'yield']\n"
     ]
    }
   ],
   "source": [
    "import keyword\n",
    "print(keyword.kwlist)"
   ]
  },
  {
   "cell_type": "code",
   "execution_count": 11,
   "id": "83de6120-f885-4872-964b-b84c6f9bd8ab",
   "metadata": {},
   "outputs": [
    {
     "name": "stdout",
     "output_type": "stream",
     "text": [
      "1000 <class 'int'>\n",
      "12.5 <class 'float'>\n",
      "(12+5j) <class 'complex'>\n",
      "Pthon <class 'str'>\n",
      "[125, 20, 53] <class 'list'>\n",
      "('sfjfhd', 123, 21) <class 'tuple'>\n",
      "{125, 1236, 789} <class 'set'>\n",
      "{'name': 'Akhil', 'address': 'HYD'} <class 'dict'>\n"
     ]
    }
   ],
   "source": [
    "a = 1000\n",
    "print(a, type(a))\n",
    "a = 12.5\n",
    "print(a, type(a))\n",
    "a = 5j+12\n",
    "print(a, type(a))\n",
    "a = \"Pthon\"\n",
    "print(a, type(a))\n",
    "a = [125,20,53]\n",
    "print(a, type(a))\n",
    "a = (\"sfjfhd\", 123, 21)\n",
    "print(a, type(a))\n",
    "a = {125, 1236, 789}\n",
    "print(a, type(a))\n",
    "a = {\"name\": \"Akhil\",\n",
    "     \"address\": \"HYD\"}\n",
    "print(a, type(a))"
   ]
  },
  {
   "cell_type": "code",
   "execution_count": 13,
   "id": "e2e8c5ee-c060-4e97-9a44-f7cfbf4bb0c8",
   "metadata": {},
   "outputs": [
    {
     "name": "stdout",
     "output_type": "stream",
     "text": [
      "12\n"
     ]
    }
   ],
   "source": [
    "print(12)"
   ]
  },
  {
   "cell_type": "code",
   "execution_count": 17,
   "id": "e9f3ad1f-e44d-4efa-a825-229d093567f4",
   "metadata": {},
   "outputs": [
    {
     "name": "stdout",
     "output_type": "stream",
     "text": [
      "15\n",
      "sainath\n",
      "[1, 2, 3, 4]\n",
      "[1, 2, 3, 4, 1, 2, 3, 4]\n"
     ]
    }
   ],
   "source": [
    "print(10  + 5 )\n",
    "print(\"sai\" + \"nath\")\n",
    "print([1, 2] + [3, 4])\n",
    "# print((1,2) + (3, 4)\n",
    "# print({1, 2} + {3, 4}) \n",
    "# print(10 + \"strr\")\n",
    "print(2 * [1, 2, 3, 4])\n",
    "# print(\"strr\" + True )"
   ]
  },
  {
   "cell_type": "code",
   "execution_count": 19,
   "id": "eb4db853-d841-4b54-bb48-204bc101af88",
   "metadata": {},
   "outputs": [
    {
     "name": "stdout",
     "output_type": "stream",
     "text": [
      "(2+2j)\n"
     ]
    }
   ],
   "source": [
    "print(1 + 1 + 2j)"
   ]
  },
  {
   "cell_type": "code",
   "execution_count": 21,
   "id": "571d1ebc-5aa2-4f38-ad26-d0450aa4899f",
   "metadata": {},
   "outputs": [
    {
     "data": {
      "text/plain": [
       "0"
      ]
     },
     "execution_count": 21,
     "metadata": {},
     "output_type": "execute_result"
    }
   ],
   "source": [
    "int(False)"
   ]
  },
  {
   "cell_type": "code",
   "execution_count": 23,
   "id": "bf59ed36-1847-4034-94e0-338636741e7a",
   "metadata": {},
   "outputs": [
    {
     "name": "stdout",
     "output_type": "stream",
     "text": [
      "strstr\n"
     ]
    }
   ],
   "source": [
    "print(2 * \"str\")"
   ]
  },
  {
   "cell_type": "code",
   "execution_count": 25,
   "id": "d7750265-6e38-4e3d-a275-4b470f0bfb67",
   "metadata": {},
   "outputs": [
    {
     "name": "stdout",
     "output_type": "stream",
     "text": [
      "False\n",
      "False\n",
      "True\n"
     ]
    }
   ],
   "source": [
    "# print(\"10\" < 9)\n",
    "print(\"apple\" < \"apple\")\n",
    "print(\"apple\" > \"apple\")\n",
    "print(\"apple\" < \"applf\")"
   ]
  },
  {
   "cell_type": "code",
   "execution_count": 27,
   "id": "ec6ea0de-60fc-4bca-bfea-8360240eba40",
   "metadata": {},
   "outputs": [
    {
     "name": "stdout",
     "output_type": "stream",
     "text": [
      "False\n",
      "False\n",
      "True\n",
      "True\n"
     ]
    }
   ],
   "source": [
    "# print(ord(10))\n",
    "print([10, 20, 30] < [10, 20, 30])\n",
    "print([10, 20, 30] > [10, 20, 30])\n",
    "print([10, 20, 31] > [10, 20, 30])\n",
    "print([10, 21, 31, 20] > [10, 20, 30])"
   ]
  },
  {
   "cell_type": "code",
   "execution_count": 29,
   "id": "e7881f70-137d-4665-ad23-81cd81e79ac3",
   "metadata": {},
   "outputs": [
    {
     "name": "stdout",
     "output_type": "stream",
     "text": [
      "True\n"
     ]
    }
   ],
   "source": [
    "print([10, 20, 30, 20] > [10, 20, 30])"
   ]
  },
  {
   "cell_type": "code",
   "execution_count": 31,
   "id": "cd1016ec-e3de-43f8-a6f8-d1a4fc98e8e1",
   "metadata": {},
   "outputs": [
    {
     "name": "stdout",
     "output_type": "stream",
     "text": [
      "False\n"
     ]
    }
   ],
   "source": [
    "print([10, 20, 30] > [10, 20, 30, 20])"
   ]
  },
  {
   "cell_type": "code",
   "execution_count": 33,
   "id": "ea9e9d96-a5bb-46ec-90ee-1c9960f8384c",
   "metadata": {},
   "outputs": [
    {
     "name": "stdout",
     "output_type": "stream",
     "text": [
      "True\n"
     ]
    }
   ],
   "source": [
    "print((1, 2, 3) < (10, -20, )) # Lexical Comparission\n"
   ]
  },
  {
   "cell_type": "code",
   "execution_count": 35,
   "id": "10ac97ba-e683-42ef-ba6d-e9285ff06ccd",
   "metadata": {},
   "outputs": [
    {
     "name": "stdout",
     "output_type": "stream",
     "text": [
      "False\n"
     ]
    }
   ],
   "source": [
    "print({1, 2, 3} < {10, -20})"
   ]
  },
  {
   "cell_type": "code",
   "execution_count": 37,
   "id": "f24b751e-5183-49e5-b472-3dbdd096a70f",
   "metadata": {},
   "outputs": [
    {
     "name": "stdout",
     "output_type": "stream",
     "text": [
      "{40, 10, 20, 30}\n"
     ]
    }
   ],
   "source": [
    "print({20, 10, 30, 40})"
   ]
  },
  {
   "cell_type": "code",
   "execution_count": 39,
   "id": "bd70470f-5765-412e-b94c-f2b918d610c6",
   "metadata": {},
   "outputs": [
    {
     "name": "stdout",
     "output_type": "stream",
     "text": [
      "False\n"
     ]
    }
   ],
   "source": [
    "print({1, 2, 3} < {-1, -2, 10})"
   ]
  },
  {
   "cell_type": "code",
   "execution_count": 41,
   "id": "9be77452-9797-4827-8299-b08e9a99b4d2",
   "metadata": {},
   "outputs": [
    {
     "name": "stdout",
     "output_type": "stream",
     "text": [
      "False\n"
     ]
    }
   ],
   "source": [
    "print({1, 2, 3} > {-1, -2, 10})\n"
   ]
  },
  {
   "cell_type": "code",
   "execution_count": 43,
   "id": "f5f05fa5-f363-4565-b7b0-88dd896d49ca",
   "metadata": {},
   "outputs": [
    {
     "name": "stdout",
     "output_type": "stream",
     "text": [
      "True\n"
     ]
    }
   ],
   "source": [
    "print({1, 2, 3, 4} > {2, 3, 4})"
   ]
  },
  {
   "cell_type": "code",
   "execution_count": 45,
   "id": "a730d3c7-29a5-4c24-bed5-6ca00fb0a809",
   "metadata": {},
   "outputs": [
    {
     "name": "stdout",
     "output_type": "stream",
     "text": [
      "False\n"
     ]
    }
   ],
   "source": [
    "\n",
    "print({1, 2, 3, 4} > {2, 3, 4, 1})"
   ]
  },
  {
   "cell_type": "code",
   "execution_count": 47,
   "id": "1166114d-000e-448e-a864-487d65b0c4c5",
   "metadata": {},
   "outputs": [
    {
     "name": "stdout",
     "output_type": "stream",
     "text": [
      "False\n"
     ]
    }
   ],
   "source": [
    "print({1, 2, 3, 4} > {2, 3, 4, 5})"
   ]
  },
  {
   "cell_type": "code",
   "execution_count": 49,
   "id": "3d2a0c7c-ad86-45e8-916e-8d543899f770",
   "metadata": {},
   "outputs": [
    {
     "data": {
      "text/plain": [
       "False"
      ]
     },
     "execution_count": 49,
     "metadata": {},
     "output_type": "execute_result"
    }
   ],
   "source": [
    "a = {1, 2, 3 ,4}\n",
    "b = {2, 3}\n",
    "\n",
    "a < b"
   ]
  },
  {
   "cell_type": "code",
   "execution_count": 51,
   "id": "5800422f-784a-40a4-8eed-a60d0ad16ec9",
   "metadata": {},
   "outputs": [
    {
     "data": {
      "text/plain": [
       "False"
      ]
     },
     "execution_count": 51,
     "metadata": {},
     "output_type": "execute_result"
    }
   ],
   "source": [
    "a = {1, 2, 3 ,4}\n",
    "b = {3, 4}\n",
    "\n",
    "a < b\n"
   ]
  },
  {
   "cell_type": "code",
   "execution_count": 53,
   "id": "c896253e-e85b-4d37-92b6-09804adee2d8",
   "metadata": {},
   "outputs": [
    {
     "data": {
      "text/plain": [
       "False"
      ]
     },
     "execution_count": 53,
     "metadata": {},
     "output_type": "execute_result"
    }
   ],
   "source": [
    "a = {1, 2, 3 ,4}\n",
    "b = {2, 4}\n",
    "\n",
    "a < b"
   ]
  },
  {
   "cell_type": "code",
   "execution_count": 55,
   "id": "21ebd44d-0c27-4f7d-b6e4-c54386ca3696",
   "metadata": {},
   "outputs": [
    {
     "data": {
      "text/plain": [
       "True"
      ]
     },
     "execution_count": 55,
     "metadata": {},
     "output_type": "execute_result"
    }
   ],
   "source": [
    "a = {1, 2, 3 ,4}\n",
    "b = {2, 4}\n",
    "\n",
    "a > b"
   ]
  },
  {
   "cell_type": "code",
   "execution_count": 57,
   "id": "ac55c26b-2bfd-4939-8128-0d79f55324a4",
   "metadata": {},
   "outputs": [
    {
     "data": {
      "text/plain": [
       "False"
      ]
     },
     "execution_count": 57,
     "metadata": {},
     "output_type": "execute_result"
    }
   ],
   "source": [
    "a = {1, 2, 3 ,4}\n",
    "b = {-1, -2}\n",
    "\n",
    "a < b\n"
   ]
  },
  {
   "cell_type": "code",
   "execution_count": 59,
   "id": "17752ef8-ad08-4901-8742-f06a3d8e5cb7",
   "metadata": {},
   "outputs": [
    {
     "data": {
      "text/plain": [
       "False"
      ]
     },
     "execution_count": 59,
     "metadata": {},
     "output_type": "execute_result"
    }
   ],
   "source": [
    "a = {1, 2, 3 ,4}\n",
    "b = {5, 6}\n",
    "\n",
    "a < b\n",
    "a > b"
   ]
  },
  {
   "cell_type": "code",
   "execution_count": 61,
   "id": "424f42a3-0e15-4f2a-8529-40dab376b239",
   "metadata": {},
   "outputs": [],
   "source": [
    "a = {1, 2, 3 ,4}\n",
    "b = {5, 6}\n",
    "\n"
   ]
  },
  {
   "cell_type": "code",
   "execution_count": 63,
   "id": "c1fcc442-f20c-480c-9070-862f3091c74e",
   "metadata": {},
   "outputs": [
    {
     "name": "stdout",
     "output_type": "stream",
     "text": [
      "True\n"
     ]
    }
   ],
   "source": [
    "a = \"id,name,age\"\n",
    "b = \"id,age,name\"\n",
    "print(sorted(a) == sorted(b))"
   ]
  },
  {
   "cell_type": "code",
   "execution_count": 65,
   "id": "e2af1bbf-ae53-40bc-b7ca-b973544cb6de",
   "metadata": {},
   "outputs": [
    {
     "name": "stdout",
     "output_type": "stream",
     "text": [
      "True\n"
     ]
    }
   ],
   "source": [
    "a = \"id,name,age\"\n",
    "b = \"id,age,name\"\n",
    "print(sorted(a) == sorted(b))\n"
   ]
  },
  {
   "cell_type": "code",
   "execution_count": 67,
   "id": "8f73f3dd-fb89-4c66-a734-7ad35e880107",
   "metadata": {},
   "outputs": [
    {
     "name": "stdout",
     "output_type": "stream",
     "text": [
      "1727772673488\n",
      "1727772673744\n",
      "True\n",
      "True\n"
     ]
    }
   ],
   "source": [
    "a = 1000\n",
    "b = 1000\n",
    "print(id(a))\n",
    "print(id(b))\n",
    "a = b\n",
    "print(a ==b)\n",
    "print(a is b)"
   ]
  },
  {
   "cell_type": "code",
   "execution_count": 69,
   "id": "b12b3a6a-b7b5-4134-845b-d627b1dadc77",
   "metadata": {},
   "outputs": [
    {
     "name": "stdout",
     "output_type": "stream",
     "text": [
      "1727772674768\n",
      "1727772674768\n",
      "True\n",
      "True\n"
     ]
    }
   ],
   "source": [
    "a = 1000\n",
    "\n",
    "print(id(a))\n",
    "\n",
    "b = a\n",
    "print(id(b))\n",
    "print(a ==b)\n",
    "print(a is b)"
   ]
  },
  {
   "cell_type": "code",
   "execution_count": 71,
   "id": "33de023a-2afd-4156-9ece-113821f30c9c",
   "metadata": {},
   "outputs": [
    {
     "data": {
      "text/plain": [
       "False"
      ]
     },
     "execution_count": 71,
     "metadata": {},
     "output_type": "execute_result"
    }
   ],
   "source": [
    "\"da\" in \"hyderabad\""
   ]
  },
  {
   "cell_type": "code",
   "execution_count": 73,
   "id": "eacdb2d0-316a-47c3-a0c8-3c61628eb599",
   "metadata": {},
   "outputs": [
    {
     "data": {
      "text/plain": [
       "True"
      ]
     },
     "execution_count": 73,
     "metadata": {},
     "output_type": "execute_result"
    }
   ],
   "source": [
    "12 in [1, 12, 13]"
   ]
  },
  {
   "cell_type": "code",
   "execution_count": 75,
   "id": "d4505f8f-bcab-45e8-954a-d164d505c544",
   "metadata": {},
   "outputs": [
    {
     "data": {
      "text/plain": [
       "True"
      ]
     },
     "execution_count": 75,
     "metadata": {},
     "output_type": "execute_result"
    }
   ],
   "source": [
    "12 in (1, 12, 13)"
   ]
  },
  {
   "cell_type": "code",
   "execution_count": 77,
   "id": "87261109-e5cc-4a0e-8231-c2b7a4055648",
   "metadata": {},
   "outputs": [
    {
     "data": {
      "text/plain": [
       "True"
      ]
     },
     "execution_count": 77,
     "metadata": {},
     "output_type": "execute_result"
    }
   ],
   "source": [
    "12 in {1, 12, 13}"
   ]
  },
  {
   "cell_type": "code",
   "execution_count": 79,
   "id": "686cdf64-0dd1-4d75-b0ff-37bd49b51228",
   "metadata": {},
   "outputs": [
    {
     "data": {
      "text/plain": [
       "True"
      ]
     },
     "execution_count": 79,
     "metadata": {},
     "output_type": "execute_result"
    }
   ],
   "source": [
    "\"1\" in \"100\""
   ]
  },
  {
   "cell_type": "code",
   "execution_count": 81,
   "id": "3939407e-eb99-4640-af36-2d21ce8d883a",
   "metadata": {},
   "outputs": [
    {
     "ename": "TypeError",
     "evalue": "argument of type 'int' is not iterable",
     "output_type": "error",
     "traceback": [
      "\u001b[1;31m---------------------------------------------------------------------------\u001b[0m",
      "\u001b[1;31mTypeError\u001b[0m                                 Traceback (most recent call last)",
      "Cell \u001b[1;32mIn[81], line 1\u001b[0m\n\u001b[1;32m----> 1\u001b[0m \u001b[38;5;241m1\u001b[39m \u001b[38;5;129;01min\u001b[39;00m \u001b[38;5;241m1000\u001b[39m\n",
      "\u001b[1;31mTypeError\u001b[0m: argument of type 'int' is not iterable"
     ]
    }
   ],
   "source": [
    "1 in 1000 # in is works on sequences and iterable "
   ]
  },
  {
   "cell_type": "code",
   "execution_count": 83,
   "id": "8b4e49d0-ee97-4fb7-a605-1dbccdd09519",
   "metadata": {},
   "outputs": [],
   "source": [
    "# and or tables"
   ]
  },
  {
   "cell_type": "code",
   "execution_count": 85,
   "id": "0609606e-f3cf-4df5-bbea-12f510ef4c93",
   "metadata": {},
   "outputs": [
    {
     "data": {
      "text/plain": [
       "'\\nTrue XOR True = False\\nTrue XOR False = True\\nFalse XOR True = True\\nFalse XOR False = False\\n'"
      ]
     },
     "execution_count": 85,
     "metadata": {},
     "output_type": "execute_result"
    }
   ],
   "source": [
    "\"\"\"\n",
    "True and True = True\n",
    "True and False = False\n",
    "False and True = False\n",
    "False and False = False\n",
    "\"\"\"\n",
    "\n",
    "\"\"\"\n",
    "True or True = True\n",
    "True or False = True\n",
    "False or True = True\n",
    "False or False = False\n",
    "\"\"\"\n",
    "\"\"\"\n",
    "True XOR True = False\n",
    "True XOR False = True\n",
    "False XOR True = True\n",
    "False XOR False = False\n",
    "\"\"\"\n"
   ]
  },
  {
   "cell_type": "code",
   "execution_count": 87,
   "id": "a37f684a-6247-4c75-a20d-5e3ed1a8c01a",
   "metadata": {},
   "outputs": [
    {
     "data": {
      "text/plain": [
       "False"
      ]
     },
     "execution_count": 87,
     "metadata": {},
     "output_type": "execute_result"
    }
   ],
   "source": [
    "10 > 20 or 30>50"
   ]
  },
  {
   "cell_type": "code",
   "execution_count": null,
   "id": "83ac6153-691c-4a70-8df7-bea7c24bc646",
   "metadata": {},
   "outputs": [],
   "source": []
  }
 ],
 "metadata": {
  "kernelspec": {
   "display_name": "Python 3 (ipykernel)",
   "language": "python",
   "name": "python3"
  },
  "language_info": {
   "codemirror_mode": {
    "name": "ipython",
    "version": 3
   },
   "file_extension": ".py",
   "mimetype": "text/x-python",
   "name": "python",
   "nbconvert_exporter": "python",
   "pygments_lexer": "ipython3",
   "version": "3.12.4"
  }
 },
 "nbformat": 4,
 "nbformat_minor": 5
}
