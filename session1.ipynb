{
 "cells": [
  {
   "cell_type": "code",
   "execution_count": 1,
   "id": "98ca8b29-078f-4ead-a8a8-5c17f41a607f",
   "metadata": {},
   "outputs": [
    {
     "name": "stdout",
     "output_type": "stream",
     "text": [
      "3000\n"
     ]
    }
   ],
   "source": [
    "a = 1000\n",
    "b = 2000\n",
    "c  = a + b \n",
    "print(c)"
   ]
  },
  {
   "cell_type": "code",
   "execution_count": 3,
   "id": "bc7aac12-37ac-4f62-9d16-9ba4d377a8eb",
   "metadata": {},
   "outputs": [
    {
     "name": "stdout",
     "output_type": "stream",
     "text": [
      "1000 1000\n",
      "1417435754672 1417435754672\n",
      "3000 1000\n",
      "1417435754800 1417435754672\n",
      "3000 4000\n",
      "1417435754800 1417435754896\n"
     ]
    }
   ],
   "source": [
    "a =  1000\n",
    "b = a\n",
    "print(a, b)\n",
    "print(id(a), id(b))\n",
    "a = 3000\n",
    "print(a, b)\n",
    "print(id(a), id(b))\n",
    "b = 4000\n",
    "print(a, b)\n",
    "print(id(a), id(b))\n"
   ]
  },
  {
   "cell_type": "code",
   "execution_count": null,
   "id": "9c1e3206-9622-4c63-9d7c-7c3947362bbf",
   "metadata": {},
   "outputs": [],
   "source": []
  }
 ],
 "metadata": {
  "kernelspec": {
   "display_name": "Python 3 (ipykernel)",
   "language": "python",
   "name": "python3"
  },
  "language_info": {
   "codemirror_mode": {
    "name": "ipython",
    "version": 3
   },
   "file_extension": ".py",
   "mimetype": "text/x-python",
   "name": "python",
   "nbconvert_exporter": "python",
   "pygments_lexer": "ipython3",
   "version": "3.12.4"
  }
 },
 "nbformat": 4,
 "nbformat_minor": 5
}
