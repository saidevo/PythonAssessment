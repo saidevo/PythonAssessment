{
 "cells": [
  {
   "cell_type": "code",
   "execution_count": 1,
   "id": "d5659625-6812-4c63-8a21-b1624cfdc2f5",
   "metadata": {},
   "outputs": [
    {
     "name": "stdout",
     "output_type": "stream",
     "text": [
      "pot 1945802382560\n",
      "p 140717253997528\n",
      "o 140717253997480\n",
      "t 140717253997720\n",
      "1945802382560 1945802382560\n",
      "pat 1945802382560\n",
      "p 140717253997528\n",
      "a 140717253996808\n",
      "t 140717253997720\n"
     ]
    }
   ],
   "source": [
    "c = \"pot\"\n",
    "print(c, id(c))\n",
    "print(c[0], id(c[0]))\n",
    "print(c[1], id(c[1]))\n",
    "print(c[2], id(c[2]))\n",
    "d = c\n",
    "print(id(d), id(c))\n",
    "e = \"pat\"\n",
    "print(e, id(c))\n",
    "print(e[0], id(e[0]))\n",
    "print(e[1], id(e[1]))\n",
    "print(e[2], id(e[2]))\n"
   ]
  },
  {
   "cell_type": "code",
   "execution_count": 3,
   "id": "667c6058-ee50-411c-b386-3ebd308a367e",
   "metadata": {},
   "outputs": [
    {
     "name": "stdout",
     "output_type": "stream",
     "text": [
      "1945802382560\n",
      "1945802382560\n",
      "1945756246752\n",
      "1945846289472\n",
      "p 140717253997528\n",
      "p 140717253997528\n",
      "p 140717253997528\n",
      "1000 1945868709968\n",
      "o 140717253997480\n",
      "o 140717253997480\n",
      "a 140717253997480\n",
      "pot 1945802382560\n",
      "t 140717253997720\n",
      "t 140717253997720\n",
      "t 140717253997720\n",
      "e 140717253973328\n"
     ]
    }
   ],
   "source": [
    "s = \"pot\"\n",
    "d =s\n",
    "e = \"pat\"\n",
    "k = [1000, s, \"e\", 2000]\n",
    "print(id(s))\n",
    "print(id(d))\n",
    "print(id(e))\n",
    "print(id(k))\n",
    "for i in range(3):\n",
    "    \n",
    "    print(s[i], id(s[i]))\n",
    "    print(d[i], id(s[i]))\n",
    "    print(e[i], id(d[i]))\n",
    "    print(k[i], id(k[i]))\n",
    "# print(s[0], id(s[0]))\n",
    "# print(e[0], id(e[0]))\n",
    "# print(s[2], id(s[2]\n"
   ]
  },
  {
   "cell_type": "code",
   "execution_count": 5,
   "id": "d83510cb-6385-4172-93e4-65cbdac104a2",
   "metadata": {},
   "outputs": [
    {
     "name": "stdout",
     "output_type": "stream",
     "text": [
      "1945868710544\n",
      "1945868710416\n"
     ]
    }
   ],
   "source": [
    "a = 257\n",
    "b = 257\n",
    "print(id(a))\n",
    "print(id(b))\n",
    "# print(id(c))\n",
    "# c = 512"
   ]
  },
  {
   "cell_type": "code",
   "execution_count": null,
   "id": "5094ced4-d591-4d2f-b855-3e8490f85bc9",
   "metadata": {},
   "outputs": [],
   "source": []
  }
 ],
 "metadata": {
  "kernelspec": {
   "display_name": "Python 3 (ipykernel)",
   "language": "python",
   "name": "python3"
  },
  "language_info": {
   "codemirror_mode": {
    "name": "ipython",
    "version": 3
   },
   "file_extension": ".py",
   "mimetype": "text/x-python",
   "name": "python",
   "nbconvert_exporter": "python",
   "pygments_lexer": "ipython3",
   "version": "3.12.4"
  }
 },
 "nbformat": 4,
 "nbformat_minor": 5
}
