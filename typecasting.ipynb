{
 "cells": [
  {
   "cell_type": "code",
   "execution_count": 1,
   "id": "4c0564a1-feb1-4787-a006-8ce2945d2dab",
   "metadata": {},
   "outputs": [
    {
     "name": "stdout",
     "output_type": "stream",
     "text": [
      "1020\n",
      "30\n"
     ]
    }
   ],
   "source": [
    "a = \"10\"\n",
    "b = \"20\"\n",
    "print(a + b)\n",
    "a = int(a)\n",
    "b = int(b)\n",
    "print(a + b)"
   ]
  },
  {
   "cell_type": "code",
   "execution_count": 3,
   "id": "d29c7627-7ecb-4d07-bd7d-9dcf45cca81f",
   "metadata": {},
   "outputs": [
    {
     "name": "stdout",
     "output_type": "stream",
     "text": [
      "200\n",
      "0.5\n",
      "0\n",
      "10\n"
     ]
    }
   ],
   "source": [
    "c = \"10\"\n",
    "d = \"20\"\n",
    "\n",
    "print(int(c) * int(d))\n",
    "print(int(c) / int(d))\n",
    "print(int(c) // int(d))\n",
    "print(int(c) % int(d))"
   ]
  },
  {
   "cell_type": "code",
   "execution_count": 5,
   "id": "a19da2ef-b775-4857-8a50-6f475360e2a0",
   "metadata": {},
   "outputs": [
    {
     "name": "stdout",
     "output_type": "stream",
     "text": [
      "200\n",
      "0.5\n",
      "0\n"
     ]
    }
   ],
   "source": [
    "a = \"10\"\n",
    "b = \"20\"\n",
    "\n",
    "print(int(c) * int(d))\n",
    "print(int(c) / int(d))\n",
    "print(int(c) // int(d))\n",
    "\n"
   ]
  },
  {
   "cell_type": "code",
   "execution_count": 7,
   "id": "dfa1e680-3558-4813-8658-45f00ca7023a",
   "metadata": {},
   "outputs": [
    {
     "name": "stdout",
     "output_type": "stream",
     "text": [
      "1234 <class 'str'>\n",
      "1234 <class 'str'>\n"
     ]
    }
   ],
   "source": [
    "a = \"1234\"\n",
    "print(a, type(a))\n",
    "b = str(a)\n",
    "print(b, type(b))"
   ]
  },
  {
   "cell_type": "code",
   "execution_count": 9,
   "id": "833972f5-8f14-499e-9e24-f7fffa4f2607",
   "metadata": {},
   "outputs": [],
   "source": [
    "# a = 1000\n",
    "# a = list(a)\n",
    "# print(a) # Type Error"
   ]
  },
  {
   "cell_type": "code",
   "execution_count": 11,
   "id": "bd30947d-2084-48b5-9031-a1568c9e23dd",
   "metadata": {},
   "outputs": [
    {
     "ename": "ValueError",
     "evalue": "invalid literal for int() with base 10: '12a'",
     "output_type": "error",
     "traceback": [
      "\u001b[1;31m---------------------------------------------------------------------------\u001b[0m",
      "\u001b[1;31mValueError\u001b[0m                                Traceback (most recent call last)",
      "Cell \u001b[1;32mIn[11], line 2\u001b[0m\n\u001b[0;32m      1\u001b[0m a \u001b[38;5;241m=\u001b[39m \u001b[38;5;124m\"\u001b[39m\u001b[38;5;124m12a\u001b[39m\u001b[38;5;124m\"\u001b[39m\n\u001b[1;32m----> 2\u001b[0m b \u001b[38;5;241m=\u001b[39m \u001b[38;5;28mint\u001b[39m(a)\n\u001b[0;32m      3\u001b[0m \u001b[38;5;28mprint\u001b[39m(b)\n",
      "\u001b[1;31mValueError\u001b[0m: invalid literal for int() with base 10: '12a'"
     ]
    }
   ],
   "source": [
    "a = \"12a\"\n",
    "b = int(a)\n",
    "print(b)\n"
   ]
  },
  {
   "cell_type": "code",
   "execution_count": 13,
   "id": "65e4e4fd-e86f-4529-8025-3732702a33c9",
   "metadata": {},
   "outputs": [],
   "source": [
    "# a = \"12a\"\n",
    "# b = float(a)\n",
    "# print(b)\n"
   ]
  },
  {
   "cell_type": "code",
   "execution_count": 15,
   "id": "a9724af9-b607-4853-b111-9887bff02795",
   "metadata": {},
   "outputs": [
    {
     "name": "stdout",
     "output_type": "stream",
     "text": [
      "298\n"
     ]
    }
   ],
   "source": [
    "a = \"12a\"\n",
    "b = int(a, 16)\n",
    "print(b)"
   ]
  },
  {
   "cell_type": "code",
   "execution_count": 17,
   "id": "69e03aed-f889-40ea-bec7-841236d0d566",
   "metadata": {},
   "outputs": [
    {
     "ename": "ValueError",
     "evalue": "invalid literal for int() with base 10: '12a'",
     "output_type": "error",
     "traceback": [
      "\u001b[1;31m---------------------------------------------------------------------------\u001b[0m",
      "\u001b[1;31mValueError\u001b[0m                                Traceback (most recent call last)",
      "Cell \u001b[1;32mIn[17], line 2\u001b[0m\n\u001b[0;32m      1\u001b[0m a \u001b[38;5;241m=\u001b[39m \u001b[38;5;124m\"\u001b[39m\u001b[38;5;124m12a\u001b[39m\u001b[38;5;124m\"\u001b[39m\n\u001b[1;32m----> 2\u001b[0m b \u001b[38;5;241m=\u001b[39m \u001b[38;5;28mint\u001b[39m(a, \u001b[38;5;241m10\u001b[39m)\n\u001b[0;32m      3\u001b[0m \u001b[38;5;28mprint\u001b[39m(b)\n",
      "\u001b[1;31mValueError\u001b[0m: invalid literal for int() with base 10: '12a'"
     ]
    }
   ],
   "source": [
    "a = \"12a\"\n",
    "b = int(a, 10)\n",
    "print(b)"
   ]
  },
  {
   "cell_type": "code",
   "execution_count": 19,
   "id": "154b6e5f-3dde-4dca-b588-d5c128458715",
   "metadata": {},
   "outputs": [
    {
     "name": "stdout",
     "output_type": "stream",
     "text": [
      "10\n"
     ]
    }
   ],
   "source": [
    "a = \"12\"\n",
    "b = int(a, 8)\n",
    "print(b)"
   ]
  },
  {
   "cell_type": "code",
   "execution_count": 21,
   "id": "0b072ed2-d5ae-4d82-8a08-915f95b04eb6",
   "metadata": {},
   "outputs": [
    {
     "data": {
      "text/plain": [
       "'\\nbinary : 21(0, 1)\\nocta : 8(0, 1, 2,3, 4, 5,6,7)\\ndecimal : 10(0, 1,2,3,4,5,6,7,8,9)\\nhexa decimal : 16(0,1,2,3,4,5,6,7,8,9, a,b,c,d,e,f)\\n\\n'"
      ]
     },
     "execution_count": 21,
     "metadata": {},
     "output_type": "execute_result"
    }
   ],
   "source": [
    "\"\"\"\n",
    "binary : 21(0, 1)\n",
    "octa : 8(0, 1, 2,3, 4, 5,6,7)\n",
    "decimal : 10(0, 1,2,3,4,5,6,7,8,9)\n",
    "hexa decimal : 16(0,1,2,3,4,5,6,7,8,9, a,b,c,d,e,f)\n",
    "\n",
    "\"\"\""
   ]
  },
  {
   "cell_type": "code",
   "execution_count": 23,
   "id": "b15bbafc-e273-4e60-b556-277a2090d327",
   "metadata": {},
   "outputs": [
    {
     "ename": "SyntaxError",
     "evalue": "incomplete input (3115393033.py, line 1)",
     "output_type": "error",
     "traceback": [
      "\u001b[1;36m  Cell \u001b[1;32mIn[23], line 1\u001b[1;36m\u001b[0m\n\u001b[1;33m    print(int(\"12df\", 12)\u001b[0m\n\u001b[1;37m                         ^\u001b[0m\n\u001b[1;31mSyntaxError\u001b[0m\u001b[1;31m:\u001b[0m incomplete input\n"
     ]
    }
   ],
   "source": [
    "print(int(\"12df\", 12)"
   ]
  },
  {
   "cell_type": "code",
   "execution_count": null,
   "id": "614201be-0e59-451d-88af-909709f7e6ed",
   "metadata": {},
   "outputs": [],
   "source": []
  }
 ],
 "metadata": {
  "kernelspec": {
   "display_name": "Python 3 (ipykernel)",
   "language": "python",
   "name": "python3"
  },
  "language_info": {
   "codemirror_mode": {
    "name": "ipython",
    "version": 3
   },
   "file_extension": ".py",
   "mimetype": "text/x-python",
   "name": "python",
   "nbconvert_exporter": "python",
   "pygments_lexer": "ipython3",
   "version": "3.12.4"
  }
 },
 "nbformat": 4,
 "nbformat_minor": 5
}
