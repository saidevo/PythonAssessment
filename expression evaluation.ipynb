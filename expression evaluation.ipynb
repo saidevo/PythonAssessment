{
 "cells": [
  {
   "cell_type": "code",
   "execution_count": 1,
   "id": "fa463a73-21d3-4753-bb7f-e1859d6a0a0e",
   "metadata": {},
   "outputs": [
    {
     "name": "stdout",
     "output_type": "stream",
     "text": [
      "30\n"
     ]
    }
   ],
   "source": [
    "s = 10 + 20\n",
    "print(s)"
   ]
  },
  {
   "cell_type": "code",
   "execution_count": 3,
   "id": "b2675e72-f931-4069-bbbd-4496bbab9716",
   "metadata": {},
   "outputs": [
    {
     "name": "stdout",
     "output_type": "stream",
     "text": [
      "60\n"
     ]
    }
   ],
   "source": [
    "s = 10 + 20 + 30\n",
    "print(s)\n"
   ]
  },
  {
   "cell_type": "code",
   "execution_count": 5,
   "id": "9070bf55-78bf-45f4-99eb-77f2c1cb73c7",
   "metadata": {},
   "outputs": [
    {
     "name": "stdout",
     "output_type": "stream",
     "text": [
      "26.0\n"
     ]
    }
   ],
   "source": [
    "s = 10 + 20/ 5 * 4\n",
    "print(s)"
   ]
  },
  {
   "cell_type": "code",
   "execution_count": 7,
   "id": "32a15574-16aa-4faf-91dd-481df21f5001",
   "metadata": {},
   "outputs": [],
   "source": [
    "# BODMAS ===> Brackets, orders, Divisions, Multiplication, Adition, Substraction"
   ]
  },
  {
   "cell_type": "code",
   "execution_count": 9,
   "id": "d3d171de-8e7e-47cf-8714-2cc2e71263bc",
   "metadata": {},
   "outputs": [
    {
     "name": "stdout",
     "output_type": "stream",
     "text": [
      "0.5\n"
     ]
    }
   ],
   "source": [
    "print(1000/200/5/2)\n"
   ]
  },
  {
   "cell_type": "code",
   "execution_count": 11,
   "id": "0ef6839f-2b1a-4292-9cf3-7a08adf629e2",
   "metadata": {},
   "outputs": [
    {
     "name": "stdout",
     "output_type": "stream",
     "text": [
      "4500.0\n"
     ]
    }
   ],
   "source": [
    "print(1000/ 200 * 600*3 / 2)"
   ]
  },
  {
   "cell_type": "code",
   "execution_count": null,
   "id": "4c43043e-dfc1-4267-bdda-ff164abbe8e1",
   "metadata": {},
   "outputs": [],
   "source": []
  }
 ],
 "metadata": {
  "kernelspec": {
   "display_name": "Python 3 (ipykernel)",
   "language": "python",
   "name": "python3"
  },
  "language_info": {
   "codemirror_mode": {
    "name": "ipython",
    "version": 3
   },
   "file_extension": ".py",
   "mimetype": "text/x-python",
   "name": "python",
   "nbconvert_exporter": "python",
   "pygments_lexer": "ipython3",
   "version": "3.12.4"
  }
 },
 "nbformat": 4,
 "nbformat_minor": 5
}
